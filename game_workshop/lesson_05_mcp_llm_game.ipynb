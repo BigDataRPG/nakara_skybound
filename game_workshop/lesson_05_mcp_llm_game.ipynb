{
 "cells": [
  {
   "cell_type": "markdown",
   "metadata": {},
   "source": [
    "# Lesson 5: Integrating MCP with LLMs for Game NPCs\n",
    "\n",
    "In this lesson, you'll learn how to connect LLM-powered NPCs with external knowledge using MCP (Model Context Protocol) and DeepWiki.\n",
    "\n",
    "## 🌐 What is MCP?\n",
    "\n",
    "MCP allows LLMs to access external tools and knowledge sources, such as DeepWiki, to answer questions or enhance in-game dialogue."
   ]
  },
  {
   "cell_type": "markdown",
   "metadata": {},
   "source": [
    "## 🛠️ MCP + LLM Setup\n",
    "\n",
    "We'll use OpenAI's Python SDK and connect to DeepWiki via MCP.\n",
    "- https://deepwiki.com/\n",
    "- https://mcpmarket.com/"
   ]
  },
  {
   "cell_type": "code",
   "execution_count": 1,
   "metadata": {},
   "outputs": [
    {
     "name": "stdout",
     "output_type": "stream",
     "text": [
      "The 2025-03-26 version of the Model Context Protocol (MCP) specification (modelcontextprotocol/modelcontextprotocol) supports the following transport protocols:\n",
      "\n",
      "1. **stdio**:\n",
      "   - The MCP server is launched as a subprocess.\n",
      "   - Communication uses standard input (stdin) and standard output (stdout), with each message delimited by a newline.\n",
      "   - Standard error (stderr) can be used for server-side logs.\n",
      "   \n",
      "2. **Streamable HTTP**:\n",
      "   - The MCP server runs as a separate process.\n",
      "   - Clients connect via HTTP POST and GET requests.\n",
      "   - The protocol optionally supports Server-Sent Events (SSE) for streaming multiple messages from the server.\n",
      "   - Streamable HTTP replaces the older \"HTTP+SSE\" transport from previous spec versions.\n",
      "\n",
      "3. **Custom Transports**:\n",
      "   - The MCP protocol is transport agnostic. Clients and servers can implement custom transports as long as they:\n",
      "     - Preserve the JSON-RPC 2.0 message format,\n",
      "     - Adhere to MCP’s message lifecycle requirements.\n",
      "\n",
      "**All MCP transports use JSON-RPC 2.0 for message exchange.**\n",
      "\n",
      "SDKs for MCP (such as the Java SDK) provide transport implementations that match these specifications.\n",
      "\n",
      "**Summary:**  \n",
      "- stdio  \n",
      "- Streamable HTTP (with optional SSE)  \n",
      "- Custom (as long as they meet protocol requirements)\n",
      "\n",
      "Let me know if you want more technical specifics or references to the source documents!\n"
     ]
    }
   ],
   "source": [
    "from openai import OpenAI\n",
    "from dotenv import load_dotenv\n",
    "load_dotenv()\n",
    "\n",
    "client = OpenAI()\n",
    "\n",
    "# Example: Ask DeepWiki via MCP\n",
    "resp = client.responses.create(\n",
    "    model=\"gpt-4.1\",\n",
    "    tools=[\n",
    "        {\n",
    "            \"type\": \"mcp\",\n",
    "            \"server_label\": \"deepwiki\",\n",
    "            \"server_url\": \"https://mcp.deepwiki.com/mcp\",\n",
    "            \"require_approval\": {\n",
    "                \"never\": {\n",
    "                    \"tool_names\": [\"ask_question\", \"read_wiki_structure\"]\n",
    "                }\n",
    "            }\n",
    "        },\n",
    "    ],\n",
    "    input=\"What transport protocols does the 2025-03-26 version of the MCP spec (modelcontextprotocol/modelcontextprotocol) support?\",\n",
    ")\n",
    "\n",
    "print(resp.output_text)"
   ]
  },
  {
   "cell_type": "markdown",
   "metadata": {},
   "source": [
    "## 🎮 Simple Game State and NPC\n",
    "\n",
    "We'll create a minimal game state and a single NPC that can answer questions using LLM + MCP."
   ]
  },
  {
   "cell_type": "code",
   "execution_count": 4,
   "metadata": {},
   "outputs": [],
   "source": [
    "from dataclasses import dataclass, field\n",
    "from typing import Dict, Any\n",
    "\n",
    "@dataclass\n",
    "class SimpleNPC:\n",
    "    name: str\n",
    "    personality: str\n",
    "    knowledge_domains: list\n",
    "\n",
    "    def ask(self, question: str) -> str:\n",
    "        resp = client.responses.create(\n",
    "            model=\"gpt-4o-mini\",\n",
    "            tools=[\n",
    "                {\n",
    "                    \"type\": \"mcp\",\n",
    "                    \"server_label\": \"deepwiki\",\n",
    "                    \"server_url\": \"https://mcp.deepwiki.com/mcp\",\n",
    "                    \"require_approval\": {\n",
    "                        \"never\": {\n",
    "                            \"tool_names\": [\"ask_question\", \"read_wiki_structure\"]\n",
    "                        }\n",
    "                    }\n",
    "                },\n",
    "            ],\n",
    "            input=question,\n",
    "        )\n",
    "        return resp.output_text"
   ]
  },
  {
   "cell_type": "code",
   "execution_count": 5,
   "metadata": {},
   "outputs": [
    {
     "name": "stdout",
     "output_type": "stream",
     "text": [
      "คุณพบ บรรณารักษ์เงา (NPC): รักความรู้ ช่างสังเกต\n",
      "บรรณารักษ์เงา กำลังค้นคว้าคำตอบ...\n",
      "\n",
      "บรรณารักษ์เงา: นาคนคร เป็นชื่อของเมืองในตำนานหรือเขตที่เกี่ยวข้องกับความเชื่อและปรัชญาในวรรณกรรมไทย ซึ่งมักมีการกล่าวถึงในเรื่องที่เกี่ยวข้องกับความเป็นอมตะและพลังของกาลเวลา เมืองนี้มักถูกมองว่าเป็นที่สำหรับผู้ที่ต้องการหลีกหนีจากความทุกข์ในโลกมนุษย์ และเป็นแหล่งรวมของความรู้และพลังที่เหนือธรรมชาติ\n",
      "\n",
      "ในแง่ของกาลเวลา นาคนครอาจสื่อถึงความอมตะหรือการเบี่ยงเบนของเวลา เช่น ผู้ที่อาศัยอยู่ในนาคนครอาจไม่ต้องเผชิญกับการแก่ชรา หรือสามารถควบคุมเวลาได้ในบางระดับ นอกจากนั้นยังเป็นสัญลักษณ์ของการเดินทางในจิตใจและการค้นหาความหมายในชีวิต ซึ่งเป็นแนวทางที่มีความเกี่ยวข้องกับการเข้าใจธรรมชาติของเวลาในเชิงปรัชญาอีกด้วย\n",
      "\n",
      "หากคุณต้องการข้อมูลเพิ่มเติมในแง่มุมใดเป็นพิเศษ แจ้งได้นะ!\n",
      "\n",
      "ลาก่อน!\n"
     ]
    }
   ],
   "source": [
    "# Minimal game loop: player can ask the NPC anything, and the NPC will use MCP+LLM to answer.\n",
    "npc = SimpleNPC(\n",
    "    name=\"บรรณารักษ์เงา\",\n",
    "    personality=\"รักความรู้ ช่างสังเกต\",\n",
    "    knowledge_domains=[\"ประวัติศาสตร์\", \"ความลับของกาลเวลา\"]\n",
    ")\n",
    "\n",
    "print(f\"คุณพบ {npc.name} (NPC): {npc.personality}\")\n",
    "while True:\n",
    "    q = input(\"ถามคำถามกับ NPC (หรือพิมพ์ 'exit'): \")\n",
    "    print(f\"\\nคุณถาม: {q}\\n\")\n",
    "    if q.strip().lower() == 'exit':\n",
    "        print(\"ลาก่อน!\")\n",
    "        break\n",
    "    print(f\"{npc.name} กำลังค้นคว้าคำตอบ...\\n\")\n",
    "    answer = npc.ask(q)\n",
    "    print(f\"{npc.name}: {answer}\\n\")"
   ]
  },
  {
   "cell_type": "markdown",
   "metadata": {},
   "source": [
    "## 🏆 Challenge\n",
    "\n",
    "- ลองถาม NPC เกี่ยวกับหัวข้อที่ลึกซึ้งหรือเฉพาะทาง\n",
    "- สังเกตว่า NPC สามารถใช้ DeepWiki เพื่อค้นหาคำตอบได้\n",
    "- ขยาย NPC หรือเกมให้รองรับหลาย NPC ที่ใช้ MCP ต่างกัน"
   ]
  }
 ],
 "metadata": {
  "kernelspec": {
   "display_name": "nakara-skybound-py3.13",
   "language": "python",
   "name": "python3"
  },
  "language_info": {
   "codemirror_mode": {
    "name": "ipython",
    "version": 3
   },
   "file_extension": ".py",
   "mimetype": "text/x-python",
   "name": "python",
   "nbconvert_exporter": "python",
   "pygments_lexer": "ipython3",
   "version": "3.13.2"
  }
 },
 "nbformat": 4,
 "nbformat_minor": 2
}
