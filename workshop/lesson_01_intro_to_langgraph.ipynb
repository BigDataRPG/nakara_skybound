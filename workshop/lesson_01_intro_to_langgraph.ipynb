{
    "cells": [
        {
            "cell_type": "markdown",
            "metadata": {},
            "source": [
                "# Lesson 1: Introduction to LangGraph and Basic Agent Setup\n",
                "\n",
                "Welcome to the Nakara Skybound Agentic Workshop!\n",
                "\n",
                "In this lesson, we'll learn:\n",
                "- What is LangGraph and why use it for game AI\n",
                "- Setting up your first agent\n",
                "- Basic state management\n",
                "- Simple decision making"
            ]
        },
        {
            "cell_type": "code",
            "execution_count": null,
            "metadata": {},
            "outputs": [],
            "source": [
                "# Install required dependencies\n",
                "# !pip install langgraph langchain-core langchain-openai"
            ]
        },
        {
            "cell_type": "code",
            "execution_count": 1,
            "metadata": {},
            "outputs": [],
            "source": [
                "from typing import TypedDict, Literal\n",
                "from langgraph.graph import StateGraph, END\n",
                "from langchain_core.messages import HumanMessage, AIMessage\n",
                "import json"
            ]
        },
        {
            "cell_type": "markdown",
            "metadata": {},
            "source": [
                "## Defining Game State\n",
                "\n",
                "First, let's define the basic state structure for our game agent:"
            ]
        },
        {
            "cell_type": "code",
            "execution_count": 2,
            "metadata": {},
            "outputs": [],
            "source": [
                "class GameState(TypedDict):\n",
                "    \"\"\"State of the game agent\"\"\"\n",
                "    player_position: dict\n",
                "    health: int\n",
                "    inventory: list\n",
                "    current_action: str\n",
                "    game_phase: Literal[\"exploration\", \"combat\", \"dialogue\", \"puzzle\"]\n",
                "    messages: list"
            ]
        },
        {
            "cell_type": "markdown",
            "metadata": {},
            "source": [
                "## Creating Basic Agent Functions"
            ]
        },
        {
            "cell_type": "code",
            "execution_count": 3,
            "metadata": {},
            "outputs": [],
            "source": [
                "def analyze_situation(state: GameState) -> GameState:\n",
                "    \"\"\"Analyze current game situation\"\"\"\n",
                "    print(f\"Analyzing situation: Phase {state['game_phase']}, Health: {state['health']}\")\n",
                "    \n",
                "    # Simple decision logic\n",
                "    if state['health'] < 30:\n",
                "        state['current_action'] = \"seek_healing\"\n",
                "    elif state['game_phase'] == \"combat\":\n",
                "        state['current_action'] = \"prepare_combat\"\n",
                "    else:\n",
                "        state['current_action'] = \"explore\"\n",
                "    \n",
                "    state['messages'].append(f\"Agent decided to: {state['current_action']}\")\n",
                "    return state"
            ]
        },
        {
            "cell_type": "code",
            "execution_count": 4,
            "metadata": {},
            "outputs": [],
            "source": [
                "def execute_action(state: GameState) -> GameState:\n",
                "    \"\"\"Execute the decided action\"\"\"\n",
                "    action = state['current_action']\n",
                "    print(f\"Executing action: {action}\")\n",
                "    \n",
                "    if action == \"seek_healing\":\n",
                "        state['health'] = min(100, state['health'] + 20)\n",
                "        state['messages'].append(f\"Health restored to {state['health']}\")\n",
                "    elif action == \"explore\":\n",
                "        # Simulate exploration\n",
                "        state['player_position']['x'] += 1\n",
                "        state['messages'].append(f\"Moved to position {state['player_position']}\")\n",
                "    \n",
                "    return state"
            ]
        },
        {
            "cell_type": "markdown",
            "metadata": {},
            "source": [
                "## Building the LangGraph"
            ]
        },
        {
            "cell_type": "code",
            "execution_count": 5,
            "metadata": {},
            "outputs": [],
            "source": [
                "# Create the graph\n",
                "workflow = StateGraph(GameState)\n",
                "\n",
                "# Add nodes\n",
                "workflow.add_node(\"analyze\", analyze_situation)\n",
                "workflow.add_node(\"execute\", execute_action)\n",
                "\n",
                "# Set entry point\n",
                "workflow.set_entry_point(\"analyze\")\n",
                "\n",
                "# Add edges\n",
                "workflow.add_edge(\"analyze\", \"execute\")\n",
                "workflow.add_edge(\"execute\", END)\n",
                "\n",
                "# Compile the graph\n",
                "app = workflow.compile()"
            ]
        },
        {
            "cell_type": "code",
            "execution_count": null,
            "metadata": {},
            "outputs": [],
            "source": [
                "import os\n",
                "from datetime import datetime\n",
                "from IPython.display import Image\n",
                "\n",
                "visualization_path = \"../visualizations\"\n",
                "current_date = datetime.now().strftime(\"%Y-%m-%d_%H-%M-%S\")\n",
                "\n",
                "os.makedirs(visualization_path, exist_ok=True)\n",
                "image = Image(app.get_graph().draw_mermaid_png())\n",
                "with open(\n",
                "    f\"{visualization_path}/{current_date}_graph.png\", \"wb\"\n",
                ") as f:\n",
                "    f.write(image.data)"
            ]
        },
        {
            "cell_type": "code",
            "execution_count": 8,
            "metadata": {},
            "outputs": [
                {
                    "data": {
                        "image/png": "[encoded data removed]",
                        "text/plain": [
                            "<IPython.core.display.Image object>"
                        ]
                    },
                    "execution_count": 8,
                    "metadata": {},
                    "output_type": "execute_result"
                }
            ],
            "source": [
                "Image(app.get_graph().draw_mermaid_png())"
            ]
        },
        {
            "cell_type": "markdown",
            "metadata": {},
            "source": [
                "## Testing Our First Agent"
            ]
        },
        {
            "cell_type": "code",
            "execution_count": 6,
            "metadata": {},
            "outputs": [
                {
                    "name": "stdout",
                    "output_type": "stream",
                    "text": [
                        "Analyzing situation: Phase exploration, Health: 25\n",
                        "Executing action: seek_healing\n",
                        "\n",
                        "Final State:\n",
                        "{\n",
                        "  \"player_position\": {\n",
                        "    \"x\": 0,\n",
                        "    \"y\": 0\n",
                        "  },\n",
                        "  \"health\": 45,\n",
                        "  \"inventory\": [],\n",
                        "  \"current_action\": \"seek_healing\",\n",
                        "  \"game_phase\": \"exploration\",\n",
                        "  \"messages\": [\n",
                        "    \"Agent decided to: seek_healing\",\n",
                        "    \"Health restored to 45\"\n",
                        "  ]\n",
                        "}\n"
                    ]
                }
            ],
            "source": [
                "# Initial game state\n",
                "initial_state = {\n",
                "    \"player_position\": {\"x\": 0, \"y\": 0},\n",
                "    \"health\": 25,  # Low health to trigger healing\n",
                "    \"inventory\": [],\n",
                "    \"current_action\": \"\",\n",
                "    \"game_phase\": \"exploration\",\n",
                "    \"messages\": []\n",
                "}\n",
                "\n",
                "# Run the agent\n",
                "result = app.invoke(initial_state)\n",
                "print(\"\\nFinal State:\")\n",
                "print(json.dumps(result, indent=2))"
            ]
        },
        {
            "cell_type": "markdown",
            "metadata": {},
            "source": [
                "## Exercise\n",
                "\n",
                "Try modifying the `analyze_situation` function to handle different scenarios:\n",
                "1. Add logic for when inventory is empty\n",
                "2. Create different behaviors for different game phases\n",
                "3. Add randomness to decision making"
            ]
        }
    ],
    "metadata": {
        "kernelspec": {
            "display_name": "nakara-skybound-py3.13",
            "language": "python",
            "name": "python3"
        },
        "language_info": {
            "codemirror_mode": {
                "name": "ipython",
                "version": 3
            },
            "file_extension": ".py",
            "mimetype": "text/x-python",
            "name": "python",
            "nbconvert_exporter": "python",
            "pygments_lexer": "ipython3",
            "version": "3.13.2"
        }
    },
    "nbformat": 4,
    "nbformat_minor": 2
}
