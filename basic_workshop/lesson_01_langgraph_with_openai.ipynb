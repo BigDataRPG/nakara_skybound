{
    "cells": [
        {
            "cell_type": "markdown",
            "metadata": {},
            "source": [
                "# LLM Workshop: Basic LangGraph with Prompting Techniques\n",
                "\n",
                "This workshop covers:\n",
                "- Introduction to LangGraph\n",
                "- Basic LLM interactions\n",
                "- Prompting techniques\n",
                "- System prompts\n",
                "- Building simple workflows"
            ]
        },
        {
            "cell_type": "markdown",
            "metadata": {},
            "source": [
                "## Setup and Installation"
            ]
        },
        {
            "cell_type": "code",
            "execution_count": 8,
            "metadata": {},
            "outputs": [],
            "source": [
                "import os\n",
                "from dotenv import load_dotenv\n",
                "from langchain_openai import ChatOpenAI\n",
                "from langchain_core.messages import HumanMessage, SystemMessage\n",
                "from langgraph.graph import Graph, StateGraph\n",
                "from typing import TypedDict, List\n",
                "from IPython.display import Markdown, display\n",
                "\n",
                "# Load environment variables\n",
                "load_dotenv()\n",
                "\n",
                "# Initialize LLM\n",
                "llm = ChatOpenAI(\n",
                "    model=\"gpt-4o-mini\", \n",
                "    temperature=0.7,\n",
                "    max_tokens=100\n",
                ")"
            ]
        },
        {
            "cell_type": "markdown",
            "metadata": {},
            "source": [
                "## 1. Basic LLM Interaction"
            ]
        },
        {
            "cell_type": "code",
            "execution_count": 9,
            "metadata": {},
            "outputs": [
                {
                    "data": {
                        "text/markdown": [
                            "Artificial intelligence (AI) refers to the simulation of human intelligence processes by machines, particularly computer systems. These processes include learning (the acquisition of information and rules for using it), reasoning (the ability to solve problems through logical deduction), and self-correction. AI can be categorized into several types:\n",
                            "\n",
                            "1. **Narrow AI (Weak AI)**: This type of AI is designed and trained for a specific task, such as language translation, image recognition, or playing a game. Most of the AI"
                        ],
                        "text/plain": [
                            "<IPython.core.display.Markdown object>"
                        ]
                    },
                    "metadata": {},
                    "output_type": "display_data"
                }
            ],
            "source": [
                "# Simple LLM call\n",
                "response = llm.invoke([HumanMessage(content=\"What is artificial intelligence?\")])\n",
                "display(Markdown(response.content))"
            ]
        },
        {
            "cell_type": "markdown",
            "metadata": {},
            "source": [
                "## 2. Understanding System Prompts\n",
                "\n",
                "System prompts define the AI's behavior and personality."
            ]
        },
        {
            "cell_type": "code",
            "execution_count": 10,
            "metadata": {},
            "outputs": [
                {
                    "data": {
                        "text/markdown": [
                            "A Python list is a built-in data structure that allows you to store a collection of items. Lists are ordered, mutable (changeable), and can contain elements of different data types, including numbers, strings, and even other lists. Lists are defined using square brackets `[]`, with elements separated by commas.\n",
                            "\n",
                            "### Key Features of Python Lists:\n",
                            "\n",
                            "1. **Ordered**: The items in a list maintain the order in which they were added. Each item has an index, starting from 0.\n",
                            "\n"
                        ],
                        "text/plain": [
                            "<IPython.core.display.Markdown object>"
                        ]
                    },
                    "metadata": {},
                    "output_type": "display_data"
                }
            ],
            "source": [
                "# Example with system prompt\n",
                "messages = [\n",
                "    SystemMessage(content=\"You are a helpful coding assistant. Always provide clear, concise explanations with code examples.\"),\n",
                "    HumanMessage(content=\"Explain what a Python list is\")\n",
                "]\n",
                "\n",
                "response = llm.invoke(messages)\n",
                "display(Markdown(response.content))"
            ]
        },
        {
            "cell_type": "markdown",
            "metadata": {},
            "source": [
                "### Exercise 1: Create different personas with system prompts"
            ]
        },
        {
            "cell_type": "code",
            "execution_count": 11,
            "metadata": {},
            "outputs": [
                {
                    "name": "stdout",
                    "output_type": "stream",
                    "text": [
                        "\n",
                        "=== TEACHER RESPONSE ===\n"
                    ]
                },
                {
                    "data": {
                        "text/markdown": [
                            "Machine learning is a branch of artificial intelligence (AI) that focuses on building systems that can learn from data and improve their performance over time without being explicitly programmed for e..."
                        ],
                        "text/plain": [
                            "<IPython.core.display.Markdown object>"
                        ]
                    },
                    "metadata": {},
                    "output_type": "display_data"
                },
                {
                    "name": "stdout",
                    "output_type": "stream",
                    "text": [
                        "\n",
                        "=== EXPERT RESPONSE ===\n"
                    ]
                },
                {
                    "data": {
                        "text/markdown": [
                            "Machine learning (ML) is a subset of artificial intelligence (AI) that focuses on the development of algorithms and statistical models that enable computers to perform tasks without explicit instructi..."
                        ],
                        "text/plain": [
                            "<IPython.core.display.Markdown object>"
                        ]
                    },
                    "metadata": {},
                    "output_type": "display_data"
                },
                {
                    "name": "stdout",
                    "output_type": "stream",
                    "text": [
                        "\n",
                        "=== CREATIVE RESPONSE ===\n"
                    ]
                },
                {
                    "data": {
                        "text/markdown": [
                            "In the realm where data flows like streams,  \n",
                            "Machine learning weaves its intricate dreams.  \n",
                            "A dance of algorithms, both swift and smart,  \n",
                            "Teaching machines to play a human part.  \n",
                            "\n",
                            "From vast oceans..."
                        ],
                        "text/plain": [
                            "<IPython.core.display.Markdown object>"
                        ]
                    },
                    "metadata": {},
                    "output_type": "display_data"
                }
            ],
            "source": [
                "# Try different system prompts\n",
                "personas = {\n",
                "    \"teacher\": \"You are a patient teacher explaining concepts to beginners.\",\n",
                "    \"expert\": \"You are a technical expert providing detailed analysis.\",\n",
                "    \"creative\": \"You are a creative writer with a poetic style.\"\n",
                "}\n",
                "\n",
                "question = \"What is machine learning?\"\n",
                "\n",
                "for persona, system_prompt in personas.items():\n",
                "    print(f\"\\n=== {persona.upper()} RESPONSE ===\")\n",
                "    messages = [\n",
                "        SystemMessage(content=system_prompt),\n",
                "        HumanMessage(content=question)\n",
                "    ]\n",
                "    response = llm.invoke(messages)\n",
                "    display(Markdown(response.content[:200] + \"...\"))"
            ]
        },
        {
            "cell_type": "markdown",
            "metadata": {},
            "source": [
                "## 3. Prompting Techniques"
            ]
        },
        {
            "cell_type": "markdown",
            "metadata": {},
            "source": [
                "### 3.1 Zero-shot Prompting"
            ]
        },
        {
            "cell_type": "code",
            "execution_count": 12,
            "metadata": {},
            "outputs": [
                {
                    "data": {
                        "text/markdown": [
                            "Zero-shot result: The sentiment of the text \"I love this product!\" is positive."
                        ],
                        "text/plain": [
                            "<IPython.core.display.Markdown object>"
                        ]
                    },
                    "metadata": {},
                    "output_type": "display_data"
                }
            ],
            "source": [
                "# Zero-shot: Direct question without examples\n",
                "prompt = \"Classify the sentiment of this text: 'I love this product!'\"\n",
                "response = llm.invoke([HumanMessage(content=prompt)])\n",
                "display(Markdown(f\"Zero-shot result: {response.content}\"))"
            ]
        },
        {
            "cell_type": "markdown",
            "metadata": {},
            "source": [
                "### 3.2 Few-shot Prompting"
            ]
        },
        {
            "cell_type": "code",
            "execution_count": 13,
            "metadata": {},
            "outputs": [
                {
                    "data": {
                        "text/markdown": [
                            "Few-shot result: Sentiment: Positive"
                        ],
                        "text/plain": [
                            "<IPython.core.display.Markdown object>"
                        ]
                    },
                    "metadata": {},
                    "output_type": "display_data"
                }
            ],
            "source": [
                "# Few-shot: Provide examples\n",
                "few_shot_prompt = \"\"\"\n",
                "Classify the sentiment of the following texts as Positive, Negative, or Neutral:\n",
                "\n",
                "Text: \"This movie is amazing!\"\n",
                "Sentiment: Positive\n",
                "\n",
                "Text: \"I hate waiting in line.\"\n",
                "Sentiment: Negative\n",
                "\n",
                "Text: \"The weather is okay today.\"\n",
                "Sentiment: Neutral\n",
                "\n",
                "Text: \"I love this product!\"\n",
                "Sentiment:\n",
                "\"\"\"\n",
                "\n",
                "response = llm.invoke([HumanMessage(content=few_shot_prompt)])\n",
                "display(Markdown(f\"Few-shot result: {response.content}\"))"
            ]
        },
        {
            "cell_type": "markdown",
            "metadata": {},
            "source": [
                "### 3.3 Chain-of-Thought Prompting"
            ]
        },
        {
            "cell_type": "code",
            "execution_count": 14,
            "metadata": {},
            "outputs": [
                {
                    "data": {
                        "text/markdown": [
                            "To find out how many people are currently dining in the restaurant, we can follow these steps:\n",
                            "\n",
                            "1. **Calculate the total number of seats available in the restaurant:**\n",
                            "   - The restaurant has 15 tables.\n",
                            "   - Each table can seat 4 people.\n",
                            "   - Therefore, the total number of seats is calculated as follows:\n",
                            "     \\[\n",
                            "     \\text{Total seats} = \\text{Number of tables} \\times \\text{Seats per table} = 15 \\times "
                        ],
                        "text/plain": [
                            "<IPython.core.display.Markdown object>"
                        ]
                    },
                    "metadata": {},
                    "output_type": "display_data"
                }
            ],
            "source": [
                "# Chain-of-thought: Ask for step-by-step reasoning\n",
                "cot_prompt = \"\"\"\n",
                "Solve this step by step:\n",
                "\n",
                "A restaurant has 15 tables. Each table can seat 4 people. \n",
                "If the restaurant is 80% full, how many people are currently dining?\n",
                "\n",
                "Think through this step by step:\n",
                "\"\"\"\n",
                "\n",
                "response = llm.invoke([HumanMessage(content=cot_prompt)])\n",
                "display(Markdown(response.content))"
            ]
        },
        {
            "cell_type": "code",
            "execution_count": 15,
            "metadata": {},
            "outputs": [
                {
                    "data": {
                        "text/markdown": [
                            "To find out how many people are currently dining at the restaurant when it is 80% full, we can follow these steps:\n",
                            "\n",
                            "1. **Calculate the total seating capacity of the restaurant**:\n",
                            "   - The restaurant has 15 tables.\n",
                            "   - Each table can seat 4 people.\n",
                            "   - Total seating capacity = Number of tables × Seats per table\n",
                            "   \\[\n",
                            "   \\text{Total seating capacity} = 15 \\text{ tables} \\times 4 \\text{ people/table} = 60 \\text{ people}\n",
                            "   \\]\n",
                            "\n",
                            "2. **Calculate how many people are dining when the restaurant is 80% full**:\n",
                            "   - If the restaurant is 80% full, we need to calculate 80% of the total seating capacity.\n",
                            "   - To find 80% of the total seating capacity, we multiply the total seating capacity by 0.80:\n",
                            "   \\[\n",
                            "   \\text{Number of people dining} = 0.80 \\times \\text{Total seating capacity} = 0.80 \\times 60 \\text{ people}\n",
                            "   \\]\n",
                            "   \\[\n",
                            "   \\text{Number of people dining} = 48 \\text{ people}\n",
                            "   \\]\n",
                            "\n",
                            "3. **Conclusion**:\n",
                            "   - Therefore, when the restaurant is 80% full, there are currently **48 people** dining.\n",
                            "\n",
                            "Thus, the final answer is **48 people**."
                        ],
                        "text/plain": [
                            "<IPython.core.display.Markdown object>"
                        ]
                    },
                    "metadata": {},
                    "output_type": "display_data"
                }
            ],
            "source": [
                "llm = ChatOpenAI(\n",
                "    model=\"gpt-4o-mini\", \n",
                "    temperature=0.7,\n",
                "    max_tokens=500\n",
                ")\n",
                "\n",
                "response = llm.invoke([HumanMessage(content=cot_prompt)])\n",
                "display(Markdown(response.content))"
            ]
        },
        {
            "cell_type": "markdown",
            "metadata": {},
            "source": [
                "## 4. Introduction to LangGraph\n",
                "\n",
                "LangGraph helps build stateful, multi-step workflows with LLMs."
            ]
        },
        {
            "cell_type": "code",
            "execution_count": 16,
            "metadata": {},
            "outputs": [],
            "source": [
                "# Define state for our graph\n",
                "class GraphState(TypedDict):\n",
                "    messages: List[str]\n",
                "    current_step: str\n",
                "    result: str"
            ]
        },
        {
            "cell_type": "markdown",
            "metadata": {},
            "source": [
                "### 4.1 Simple Linear Workflow"
            ]
        },
        {
            "cell_type": "code",
            "execution_count": 18,
            "metadata": {},
            "outputs": [],
            "source": [
                "def analyze_text(state: GraphState) -> GraphState:\n",
                "    \"\"\"Analyze the input text\"\"\"\n",
                "    text = state[\"messages\"][-1]\n",
                "    \n",
                "    prompt = f\"\"\"\n",
                "    Analyze the following text and provide:\n",
                "    1. Main topic\n",
                "    2. Sentiment\n",
                "    3. Key themes\n",
                "    \n",
                "    Text: {text}\n",
                "    \"\"\"\n",
                "    \n",
                "    response = llm.invoke([HumanMessage(content=prompt)])\n",
                "    \n",
                "    state[\"current_step\"] = \"analysis\"\n",
                "    state[\"result\"] = response.content\n",
                "    \n",
                "    return state\n",
                "\n",
                "def summarize_analysis(state: GraphState) -> GraphState:\n",
                "    \"\"\"Create a summary of the analysis\"\"\"\n",
                "    analysis = state[\"result\"]\n",
                "    \n",
                "    prompt = f\"\"\"\n",
                "    Create a brief summary of this analysis in 2-3 sentences:\n",
                "    \n",
                "    {analysis}\n",
                "    \"\"\"\n",
                "    \n",
                "    response = llm.invoke([HumanMessage(content=prompt)])\n",
                "    \n",
                "    state[\"current_step\"] = \"summary\"\n",
                "    state[\"result\"] = response.content\n",
                "    \n",
                "    return state"
            ]
        },
        {
            "cell_type": "code",
            "execution_count": 19,
            "metadata": {},
            "outputs": [],
            "source": [
                "# Build the graph\n",
                "workflow = StateGraph(GraphState)\n",
                "\n",
                "# Add nodes\n",
                "workflow.add_node(\"analyze\", analyze_text)\n",
                "workflow.add_node(\"summarize\", summarize_analysis)\n",
                "\n",
                "# Add edges\n",
                "workflow.add_edge(\"analyze\", \"summarize\")\n",
                "\n",
                "# Set entry point\n",
                "workflow.set_entry_point(\"analyze\")\n",
                "workflow.set_finish_point(\"summarize\")\n",
                "\n",
                "# Compile the graph\n",
                "app = workflow.compile()"
            ]
        },
        {
            "cell_type": "code",
            "execution_count": 20,
            "metadata": {},
            "outputs": [
                {
                    "data": {
                        "image/png": "[encoded data removed]",
                        "text/plain": [
                            "<IPython.core.display.Image object>"
                        ]
                    },
                    "execution_count": 20,
                    "metadata": {},
                    "output_type": "execute_result"
                }
            ],
            "source": [
                "import os\n",
                "from datetime import datetime\n",
                "from IPython.display import Image\n",
                "\n",
                "Image(app.get_graph().draw_mermaid_png())"
            ]
        },
        {
            "cell_type": "code",
            "execution_count": 22,
            "metadata": {},
            "outputs": [
                {
                    "name": "stdout",
                    "output_type": "stream",
                    "text": [
                        "Final Summary:\n"
                    ]
                },
                {
                    "data": {
                        "text/markdown": [
                            "The analysis examines the dual impact of artificial intelligence across industries, recognizing both its transformative benefits, such as innovation and enhanced efficiency, and the significant challenges it poses, including job displacement and ethical dilemmas. While AI presents numerous opportunities for advancement, it also raises critical concerns that must be addressed to ensure responsible implementation."
                        ],
                        "text/plain": [
                            "<IPython.core.display.Markdown object>"
                        ]
                    },
                    "metadata": {},
                    "output_type": "display_data"
                }
            ],
            "source": [
                "# Test the workflow\n",
                "initial_state = {\n",
                "    \"messages\": [\"The rapid advancement of artificial intelligence is transforming industries worldwide. While it brings tremendous opportunities for innovation and efficiency, it also raises important questions about job displacement and ethical considerations.\"],\n",
                "    \"current_step\": \"start\",\n",
                "    \"result\": \"\"\n",
                "}\n",
                "\n",
                "result = app.invoke(initial_state)\n",
                "print(\"Final Summary:\")\n",
                "display(Markdown((result[\"result\"])))"
            ]
        },
        {
            "cell_type": "markdown",
            "metadata": {},
            "source": [
                "## 5. Building a Conditional Workflow"
            ]
        },
        {
            "cell_type": "code",
            "execution_count": 23,
            "metadata": {},
            "outputs": [],
            "source": [
                "def classify_query(state: GraphState) -> GraphState:\n",
                "    \"\"\"Classify the type of query\"\"\"\n",
                "    query = state[\"messages\"][-1]\n",
                "    \n",
                "    prompt = f\"\"\"\n",
                "    Classify this query into one of these categories:\n",
                "    - technical: Programming, coding, or technical questions\n",
                "    - creative: Creative writing, brainstorming, or artistic requests\n",
                "    - factual: Factual questions or information requests\n",
                "    \n",
                "    Query: {query}\n",
                "    \n",
                "    Respond with only the category name.\n",
                "    \"\"\"\n",
                "    \n",
                "    response = llm.invoke([HumanMessage(content=prompt)])\n",
                "    classification = response.content.strip().lower()\n",
                "    \n",
                "    state[\"current_step\"] = \"classified\"\n",
                "    state[\"result\"] = classification\n",
                "    \n",
                "    return state\n",
                "\n",
                "def handle_technical(state: GraphState) -> GraphState:\n",
                "    \"\"\"Handle technical queries\"\"\"\n",
                "    query = state[\"messages\"][-1]\n",
                "    \n",
                "    system_prompt = \"You are a senior software engineer. Provide detailed technical explanations with code examples.\"\n",
                "    \n",
                "    response = llm.invoke([\n",
                "        SystemMessage(content=system_prompt),\n",
                "        HumanMessage(content=query)\n",
                "    ])\n",
                "    \n",
                "    state[\"current_step\"] = \"technical_response\"\n",
                "    state[\"result\"] = response.content\n",
                "    \n",
                "    return state\n",
                "\n",
                "def handle_creative(state: GraphState) -> GraphState:\n",
                "    \"\"\"Handle creative queries\"\"\"\n",
                "    query = state[\"messages\"][-1]\n",
                "    \n",
                "    system_prompt = \"You are a creative writing assistant. Be imaginative and inspiring in your responses.\"\n",
                "    \n",
                "    response = llm.invoke([\n",
                "        SystemMessage(content=system_prompt),\n",
                "        HumanMessage(content=query)\n",
                "    ])\n",
                "    \n",
                "    state[\"current_step\"] = \"creative_response\"\n",
                "    state[\"result\"] = response.content\n",
                "    \n",
                "    return state\n",
                "\n",
                "def handle_factual(state: GraphState) -> GraphState:\n",
                "    \"\"\"Handle factual queries\"\"\"\n",
                "    query = state[\"messages\"][-1]\n",
                "    \n",
                "    system_prompt = \"You are a knowledgeable assistant. Provide accurate, well-structured information.\"\n",
                "    \n",
                "    response = llm.invoke([\n",
                "        SystemMessage(content=system_prompt),\n",
                "        HumanMessage(content=query)\n",
                "    ])\n",
                "    \n",
                "    state[\"current_step\"] = \"factual_response\"\n",
                "    state[\"result\"] = response.content\n",
                "    \n",
                "    return state\n",
                "\n",
                "def route_query(state: GraphState) -> str:\n",
                "    \"\"\"Route to appropriate handler based on classification\"\"\"\n",
                "    classification = state[\"result\"]\n",
                "    \n",
                "    if \"technical\" in classification:\n",
                "        return \"technical\"\n",
                "    elif \"creative\" in classification:\n",
                "        return \"creative\"\n",
                "    else:\n",
                "        return \"factual\""
            ]
        },
        {
            "cell_type": "code",
            "execution_count": 24,
            "metadata": {},
            "outputs": [],
            "source": [
                "# Build conditional workflow\n",
                "conditional_workflow = StateGraph(GraphState)\n",
                "\n",
                "# Add nodes\n",
                "conditional_workflow.add_node(\"classify\", classify_query)\n",
                "conditional_workflow.add_node(\"technical\", handle_technical)\n",
                "conditional_workflow.add_node(\"creative\", handle_creative)\n",
                "conditional_workflow.add_node(\"factual\", handle_factual)\n",
                "\n",
                "# Add conditional edges\n",
                "conditional_workflow.add_conditional_edges(\n",
                "    \"classify\",\n",
                "    route_query,\n",
                "    {\n",
                "        \"technical\": \"technical\",\n",
                "        \"creative\": \"creative\",\n",
                "        \"factual\": \"factual\"\n",
                "    }\n",
                ")\n",
                "\n",
                "# Set entry and finish points\n",
                "conditional_workflow.set_entry_point(\"classify\")\n",
                "conditional_workflow.set_finish_point(\"technical\")\n",
                "conditional_workflow.set_finish_point(\"creative\")\n",
                "conditional_workflow.set_finish_point(\"factual\")\n",
                "\n",
                "# Compile\n",
                "conditional_app = conditional_workflow.compile()"
            ]
        },
        {
            "cell_type": "code",
            "execution_count": 25,
            "metadata": {},
            "outputs": [
                {
                    "data": {
                        "image/png": "[encoded data removed]",
                        "text/plain": [
                            "<IPython.core.display.Image object>"
                        ]
                    },
                    "execution_count": 25,
                    "metadata": {},
                    "output_type": "execute_result"
                }
            ],
            "source": [
                "Image(conditional_app.get_graph().draw_mermaid_png())"
            ]
        },
        {
            "cell_type": "markdown",
            "metadata": {},
            "source": [
                "### Test the conditional workflow"
            ]
        },
        {
            "cell_type": "code",
            "execution_count": 26,
            "metadata": {},
            "outputs": [
                {
                    "name": "stdout",
                    "output_type": "stream",
                    "text": [
                        "\n",
                        "=== QUERY: How do I implement a binary search in Python? ===\n",
                        "Classification: technical_response\n"
                    ]
                },
                {
                    "data": {
                        "text/markdown": [
                            "Response: Binary search is an efficient algorithm for finding an item from a sorted list of items. It works by repeatedly dividing the search interval in half. If the value of the search key is less than the it..."
                        ],
                        "text/plain": [
                            "<IPython.core.display.Markdown object>"
                        ]
                    },
                    "metadata": {},
                    "output_type": "display_data"
                },
                {
                    "name": "stdout",
                    "output_type": "stream",
                    "text": [
                        "\n",
                        "=== QUERY: Write a short story about a robot learning to paint ===\n",
                        "Classification: creative_response\n"
                    ]
                },
                {
                    "data": {
                        "text/markdown": [
                            "Response: In a small workshop nestled between a bustling city and a tranquil forest, there lived a robot named Arlo. Arlo was designed for practical tasks—fixing machines, organizing tools, and assisting his cr..."
                        ],
                        "text/plain": [
                            "<IPython.core.display.Markdown object>"
                        ]
                    },
                    "metadata": {},
                    "output_type": "display_data"
                },
                {
                    "name": "stdout",
                    "output_type": "stream",
                    "text": [
                        "\n",
                        "=== QUERY: What is the capital of France? ===\n",
                        "Classification: factual_response\n"
                    ]
                },
                {
                    "data": {
                        "text/markdown": [
                            "Response: The capital of France is Paris. It is not only the largest city in the country but also a major cultural, political, and economic center in Europe and the world. Paris is known for its historic landma..."
                        ],
                        "text/plain": [
                            "<IPython.core.display.Markdown object>"
                        ]
                    },
                    "metadata": {},
                    "output_type": "display_data"
                }
            ],
            "source": [
                "# Test with different query types\n",
                "test_queries = [\n",
                "    \"How do I implement a binary search in Python?\",\n",
                "    \"Write a short story about a robot learning to paint\",\n",
                "    \"What is the capital of France?\"\n",
                "]\n",
                "\n",
                "for query in test_queries:\n",
                "    print(f\"\\n=== QUERY: {query} ===\")\n",
                "    \n",
                "    state = {\n",
                "        \"messages\": [query],\n",
                "        \"current_step\": \"start\",\n",
                "        \"result\": \"\"\n",
                "    }\n",
                "    \n",
                "    result = conditional_app.invoke(state)\n",
                "    print(f\"Classification: {result['current_step']}\")\n",
                "    display(Markdown(f\"Response: {result['result'][:200]}...\"))"
            ]
        }
    ],
    "metadata": {
        "kernelspec": {
            "display_name": "nakara-skybound-py3.13",
            "language": "python",
            "name": "python3"
        },
        "language_info": {
            "codemirror_mode": {
                "name": "ipython",
                "version": 3
            },
            "file_extension": ".py",
            "mimetype": "text/x-python",
            "name": "python",
            "nbconvert_exporter": "python",
            "pygments_lexer": "ipython3",
            "version": "3.13.2"
        }
    },
    "nbformat": 4,
    "nbformat_minor": 4
}
